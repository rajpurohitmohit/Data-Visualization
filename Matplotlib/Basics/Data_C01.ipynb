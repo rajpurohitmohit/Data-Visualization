{
 "cells": [
  {
   "cell_type": "code",
   "execution_count": 1,
   "metadata": {},
   "outputs": [],
   "source": [
    "import pandas as pd\n",
    "import numpy as np"
   ]
  },
  {
   "cell_type": "code",
   "execution_count": 2,
   "metadata": {},
   "outputs": [],
   "source": [
    "# Creating a DataFrame\n",
    "sales = pd.DataFrame({\n",
    "    \"Sales_id\":[101,102,103,104,105,106,107,108,109,110],\n",
    "    \"Product_name\": [\"Pen\",\"Pencil\",\"Pen\",\"Pencil\",\"laptop\",\"mobile\",\"laptop\",\"mobile\",\"Pen\",\"Pencil\"],\n",
    "    \"Product_price\":[10,15,10,15,100,np.nan,np.nan,150,10,15],\n",
    "    \"qty\":[1,2,3,4,5,6,7,8,9,10]\n",
    "})"
   ]
  },
  {
   "cell_type": "code",
   "execution_count": 3,
   "metadata": {},
   "outputs": [],
   "source": [
    "# For adding the Total Amount column in by multiplying the product price by quantity\n",
    "sales[\"total_amount\"]= sales[\"Product_price\"] * sales[\"qty\"]"
   ]
  },
  {
   "cell_type": "code",
   "execution_count": 4,
   "metadata": {},
   "outputs": [],
   "source": [
    "# For grouping on the basis of product name with the sum of all the total amount\n",
    "sum = sales.groupby(\"Product_name\") [\"total_amount\"].sum()"
   ]
  },
  {
   "cell_type": "code",
   "execution_count": 5,
   "metadata": {},
   "outputs": [
    {
     "data": {
      "text/plain": [
       "Sales_id         0\n",
       "Product_name     0\n",
       "Product_price    2\n",
       "qty              0\n",
       "total_amount     2\n",
       "dtype: int64"
      ]
     },
     "execution_count": 5,
     "metadata": {},
     "output_type": "execute_result"
    }
   ],
   "source": [
    "# For viewing the null values in all the rows and colum\n",
    "sales.isnull().sum()"
   ]
  },
  {
   "cell_type": "code",
   "execution_count": 6,
   "metadata": {},
   "outputs": [],
   "source": [
    "#To fill the missing values in Product_price column : fillna, replace, interpolate, dropna, ffill, bfill, method, mean\n",
    "# I method\n",
    "sales[\"Product_price\"]=sales[\"Product_price\"].fillna(sales[\"Product_price\"].mean())"
   ]
  },
  {
   "cell_type": "code",
   "execution_count": 7,
   "metadata": {},
   "outputs": [
    {
     "name": "stderr",
     "output_type": "stream",
     "text": [
      "C:\\Users\\MOHIT\\AppData\\Local\\Temp\\ipykernel_35416\\3197533656.py:3: FutureWarning: Series.fillna with 'method' is deprecated and will raise in a future version. Use obj.ffill() or obj.bfill() instead.\n",
      "  sales[\"Product_price\"]=sales[\"Product_price\"].fillna(method=\"ffill\")\n"
     ]
    }
   ],
   "source": [
    "# Using another method to fill missing the values in total_amount\n",
    "# II method\n",
    "sales[\"Product_price\"]=sales[\"Product_price\"].fillna(method=\"ffill\")\n",
    "sales[\"qty\"]=sales[\"qty\"].fillna(5)\n",
    "sales[\"total_amount\"]=sales[\"qty\"]*sales[\"Product_price\"]"
   ]
  },
  {
   "cell_type": "code",
   "execution_count": 8,
   "metadata": {},
   "outputs": [
    {
     "data": {
      "text/plain": [
       "Sales_id           int64\n",
       "Product_name      object\n",
       "Product_price    float64\n",
       "qty                int64\n",
       "total_amount     float64\n",
       "dtype: object"
      ]
     },
     "execution_count": 8,
     "metadata": {},
     "output_type": "execute_result"
    }
   ],
   "source": [
    "# For getting the datatypes of column \n",
    "sales.dtypes"
   ]
  },
  {
   "cell_type": "code",
   "execution_count": 9,
   "metadata": {},
   "outputs": [],
   "source": [
    "# For changing the datatype of columns by using astype \n",
    "sales[\"Sales_id\"] = sales[\"Sales_id\"].astype(\"object\")"
   ]
  },
  {
   "cell_type": "code",
   "execution_count": 10,
   "metadata": {},
   "outputs": [],
   "source": [
    "# With the help of pd.to_numeric\n",
    "sales[\"Sales_id\"]=pd.to_numeric(sales[\"Sales_id\"],errors=\"coerce\")"
   ]
  },
  {
   "cell_type": "code",
   "execution_count": 11,
   "metadata": {},
   "outputs": [],
   "source": [
    "# For grouping the product name with total amount using Groupby function\n",
    "a = sales.groupby(\"Product_name\")[\"total_amount\"].sum()\n",
    "sales[\"Sales_id\"] = sales[\"Sales_id\"].astype(\"object\")\n",
    "a=pd.DataFrame(a.reset_index())   #To convert series to dataframe and reset index to make it as column"
   ]
  },
  {
   "cell_type": "code",
   "execution_count": 12,
   "metadata": {},
   "outputs": [],
   "source": [
    "# If you want another aggregation function in the same Groupby function\n",
    "b = sales.groupby(\"Product_name\").agg({\"total_amount\":[\"sum\",\"mean\",\"max\",\"min\",\"count\",\"std\",\"var\",\"median\"]})\n",
    "b = pd.DataFrame(b.reset_index())\n",
    "b.columns = [\"Product_name\",\"total_amount_sum\",\"mean\",\"max\",\"min\",\"count\",\"std\",\"var\",\"median\"]"
   ]
  },
  {
   "cell_type": "code",
   "execution_count": 13,
   "metadata": {},
   "outputs": [],
   "source": [
    "# pivot table\n",
    "a = sales.pivot_table(index=\"Product_name\", values=\"total_amount\", aggfunc=[\"sum\",\"mean\",\"max\",\"min\",\"count\"]).reset_index()"
   ]
  }
 ],
 "metadata": {
  "kernelspec": {
   "display_name": "Python 3",
   "language": "python",
   "name": "python3"
  },
  "language_info": {
   "codemirror_mode": {
    "name": "ipython",
    "version": 3
   },
   "file_extension": ".py",
   "mimetype": "text/x-python",
   "name": "python",
   "nbconvert_exporter": "python",
   "pygments_lexer": "ipython3",
   "version": "3.13.2"
  }
 },
 "nbformat": 4,
 "nbformat_minor": 2
}
