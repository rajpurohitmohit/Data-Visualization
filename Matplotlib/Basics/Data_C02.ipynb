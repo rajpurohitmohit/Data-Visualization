{
 "cells": [
  {
   "cell_type": "code",
   "execution_count": 1,
   "metadata": {},
   "outputs": [],
   "source": [
    "import pandas as pd\n",
    "import numpy as np"
   ]
  },
  {
   "cell_type": "code",
   "execution_count": null,
   "metadata": {},
   "outputs": [],
   "source": [
    "# 1 DF\n",
    "emp_data=pd.DataFrame({\"id\":[101,102,103,104,105,106,107,108,109,110],\n",
    "\"name\":[\"A\",\"B\",\"C\",\"D\",\"E\",\"F\",\"G\",\"H\",\"I\",\"J\"],\n",
    "\"age\":[20,21,22,23,24,25,26,27,28,29],\n",
    "\"city\":[\"Pune\",\"Mumbai\",\"Pune\",\"Mumbai\",\"Pune\",\"Mumbai\",\"Pune\",\"Mumbai\",\"Pune\",\"Mumbai\"]})"
   ]
  },
  {
   "cell_type": "code",
   "execution_count": null,
   "metadata": {},
   "outputs": [],
   "source": [
    "# 2 DF\n",
    "department_data = pd.DataFrame({\"id\":[101,102,103,104,105,106,107,108,109,110,111,112,113,114,115],\n",
    "                        \"dept\":[\"HR\",\"Finance\",\"HR\",\"IT\",\"Finance\",\"IT\",\"HR\",\"Finance\",\"HR\",\"IT\",\"HR\",\n",
    "                                \"Finance\",\"HR\",\"IT\",\"HR\"],\n",
    "                        \"salary\":[20000,21000,22000,23000,24000,25000,26000,27000,28000,29000,30000,\n",
    "                                  31000,32000,33000,34000]})\n",
    "\n",
    "print(emp_data,\"\\n\\n\",department_data)"
   ]
  },
  {
   "cell_type": "code",
   "execution_count": null,
   "metadata": {},
   "outputs": [],
   "source": [
    "# Merging the data based on common column\n",
    "# We have inner, outer, left, right join\n",
    "# On is used to merge the data based on common column\n",
    "# How is used to merge the data based on type of join\n",
    "# Inner Join\n",
    "details_innerjoin = pd.merge(emp_data,department_data, on=\"id\", how= \"inner\")\n",
    "details_innerjoin"
   ]
  },
  {
   "cell_type": "code",
   "execution_count": null,
   "metadata": {},
   "outputs": [],
   "source": [
    "# Outer Join\n",
    "details_outerjoin = pd.merge(emp_data,department_data, on=\"id\", how= \"outer\")\n",
    "details_outerjoin"
   ]
  },
  {
   "cell_type": "code",
   "execution_count": null,
   "metadata": {},
   "outputs": [],
   "source": [
    "# Left join\n",
    "details_leftjoin = pd.merge(emp_data,department_data, on=\"id\", how= \"left\")\n",
    "details_leftjoin"
   ]
  },
  {
   "cell_type": "code",
   "execution_count": null,
   "metadata": {},
   "outputs": [],
   "source": [
    "# Right join\n",
    "details_rightjoin = pd.merge(emp_data,department_data, on=\"id\", how= \"right\")\n",
    "details_rightjoin"
   ]
  },
  {
   "cell_type": "code",
   "execution_count": null,
   "metadata": {},
   "outputs": [],
   "source": [
    "# Who are the top 3 highest-paid employees, and which departments do they belong to?\n",
    "details_innerjoin = pd.merge(emp_data,department_data, on=\"id\", how= \"inner\")\n",
    "top3HPE=details_innerjoin.sort_values(by=\"salary\",ascending=False).head(3)\n",
    "top3HPE"
   ]
  }
 ],
 "metadata": {
  "kernelspec": {
   "display_name": "Python 3",
   "language": "python",
   "name": "python3"
  },
  "language_info": {
   "codemirror_mode": {
    "name": "ipython",
    "version": 3
   },
   "file_extension": ".py",
   "mimetype": "text/x-python",
   "name": "python",
   "nbconvert_exporter": "python",
   "pygments_lexer": "ipython3",
   "version": "3.13.2"
  }
 },
 "nbformat": 4,
 "nbformat_minor": 2
}
