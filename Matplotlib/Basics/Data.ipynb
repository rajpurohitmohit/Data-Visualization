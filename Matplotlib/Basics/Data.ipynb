{
 "cells": [
  {
   "cell_type": "code",
   "execution_count": 1,
   "id": "d109833b-da08-4578-a837-a3a5ba63b2c8",
   "metadata": {},
   "outputs": [],
   "source": [
    "import pandas as pd\n",
    "import numpy as np"
   ]
  },
  {
   "cell_type": "code",
   "execution_count": 2,
   "id": "d5ce6286-b321-437b-ab5e-87d6f38fb184",
   "metadata": {},
   "outputs": [],
   "source": [
    "sales = pd.DataFrame({\n",
    "    \"Sales_id\":[101,102,103,104,105,106,107,108,109,110],\n",
    "    \"Product_name\": [\"Pen\",\"Pencil\",\"Pen\",\"Pencil\",\"laptop\",\"mobile\",\"laptop\",\"mobile\",\"Pen\",\"Pencil\"],\n",
    "    \"Product_price\":[10,15,10,15,100,np.nan,np.nan,150,10,15],\n",
    "    \"qty\":[1,2,3,4,5,6,7,8,9,10]\n",
    "})"
   ]
  },
  {
   "cell_type": "code",
   "execution_count": 3,
   "id": "45d7ac7f-d192-49d6-95c1-f569eabfa639",
   "metadata": {},
   "outputs": [
    {
     "data": {
      "text/html": [
       "<div>\n",
       "<style scoped>\n",
       "    .dataframe tbody tr th:only-of-type {\n",
       "        vertical-align: middle;\n",
       "    }\n",
       "\n",
       "    .dataframe tbody tr th {\n",
       "        vertical-align: top;\n",
       "    }\n",
       "\n",
       "    .dataframe thead th {\n",
       "        text-align: right;\n",
       "    }\n",
       "</style>\n",
       "<table border=\"1\" class=\"dataframe\">\n",
       "  <thead>\n",
       "    <tr style=\"text-align: right;\">\n",
       "      <th></th>\n",
       "      <th>Sales_id</th>\n",
       "      <th>Product_name</th>\n",
       "      <th>Product_price</th>\n",
       "      <th>qty</th>\n",
       "    </tr>\n",
       "  </thead>\n",
       "  <tbody>\n",
       "    <tr>\n",
       "      <th>0</th>\n",
       "      <td>101</td>\n",
       "      <td>Pen</td>\n",
       "      <td>10.0</td>\n",
       "      <td>1</td>\n",
       "    </tr>\n",
       "    <tr>\n",
       "      <th>1</th>\n",
       "      <td>102</td>\n",
       "      <td>Pencil</td>\n",
       "      <td>15.0</td>\n",
       "      <td>2</td>\n",
       "    </tr>\n",
       "    <tr>\n",
       "      <th>2</th>\n",
       "      <td>103</td>\n",
       "      <td>Pen</td>\n",
       "      <td>10.0</td>\n",
       "      <td>3</td>\n",
       "    </tr>\n",
       "    <tr>\n",
       "      <th>3</th>\n",
       "      <td>104</td>\n",
       "      <td>Pencil</td>\n",
       "      <td>15.0</td>\n",
       "      <td>4</td>\n",
       "    </tr>\n",
       "    <tr>\n",
       "      <th>4</th>\n",
       "      <td>105</td>\n",
       "      <td>laptop</td>\n",
       "      <td>100.0</td>\n",
       "      <td>5</td>\n",
       "    </tr>\n",
       "    <tr>\n",
       "      <th>5</th>\n",
       "      <td>106</td>\n",
       "      <td>mobile</td>\n",
       "      <td>NaN</td>\n",
       "      <td>6</td>\n",
       "    </tr>\n",
       "    <tr>\n",
       "      <th>6</th>\n",
       "      <td>107</td>\n",
       "      <td>laptop</td>\n",
       "      <td>NaN</td>\n",
       "      <td>7</td>\n",
       "    </tr>\n",
       "    <tr>\n",
       "      <th>7</th>\n",
       "      <td>108</td>\n",
       "      <td>mobile</td>\n",
       "      <td>150.0</td>\n",
       "      <td>8</td>\n",
       "    </tr>\n",
       "    <tr>\n",
       "      <th>8</th>\n",
       "      <td>109</td>\n",
       "      <td>Pen</td>\n",
       "      <td>10.0</td>\n",
       "      <td>9</td>\n",
       "    </tr>\n",
       "    <tr>\n",
       "      <th>9</th>\n",
       "      <td>110</td>\n",
       "      <td>Pencil</td>\n",
       "      <td>15.0</td>\n",
       "      <td>10</td>\n",
       "    </tr>\n",
       "  </tbody>\n",
       "</table>\n",
       "</div>"
      ],
      "text/plain": [
       "   Sales_id Product_name  Product_price  qty\n",
       "0       101          Pen           10.0    1\n",
       "1       102       Pencil           15.0    2\n",
       "2       103          Pen           10.0    3\n",
       "3       104       Pencil           15.0    4\n",
       "4       105       laptop          100.0    5\n",
       "5       106       mobile            NaN    6\n",
       "6       107       laptop            NaN    7\n",
       "7       108       mobile          150.0    8\n",
       "8       109          Pen           10.0    9\n",
       "9       110       Pencil           15.0   10"
      ]
     },
     "execution_count": 3,
     "metadata": {},
     "output_type": "execute_result"
    }
   ],
   "source": [
    "sales"
   ]
  },
  {
   "cell_type": "code",
   "execution_count": 4,
   "id": "448ae065-fef0-45ca-bcf3-871ca294cc19",
   "metadata": {},
   "outputs": [],
   "source": [
    "sales[\"total_amount\"] = sales[\"Product_price\"]* sales[\"qty\"]"
   ]
  },
  {
   "cell_type": "code",
   "execution_count": 5,
   "id": "ac2adf89-d178-4b14-9d8d-a2eefbd51e2c",
   "metadata": {},
   "outputs": [
    {
     "data": {
      "text/html": [
       "<div>\n",
       "<style scoped>\n",
       "    .dataframe tbody tr th:only-of-type {\n",
       "        vertical-align: middle;\n",
       "    }\n",
       "\n",
       "    .dataframe tbody tr th {\n",
       "        vertical-align: top;\n",
       "    }\n",
       "\n",
       "    .dataframe thead th {\n",
       "        text-align: right;\n",
       "    }\n",
       "</style>\n",
       "<table border=\"1\" class=\"dataframe\">\n",
       "  <thead>\n",
       "    <tr style=\"text-align: right;\">\n",
       "      <th></th>\n",
       "      <th>Sales_id</th>\n",
       "      <th>Product_name</th>\n",
       "      <th>Product_price</th>\n",
       "      <th>qty</th>\n",
       "      <th>total_amount</th>\n",
       "    </tr>\n",
       "  </thead>\n",
       "  <tbody>\n",
       "    <tr>\n",
       "      <th>0</th>\n",
       "      <td>101</td>\n",
       "      <td>Pen</td>\n",
       "      <td>10.0</td>\n",
       "      <td>1</td>\n",
       "      <td>10.0</td>\n",
       "    </tr>\n",
       "    <tr>\n",
       "      <th>1</th>\n",
       "      <td>102</td>\n",
       "      <td>Pencil</td>\n",
       "      <td>15.0</td>\n",
       "      <td>2</td>\n",
       "      <td>30.0</td>\n",
       "    </tr>\n",
       "    <tr>\n",
       "      <th>2</th>\n",
       "      <td>103</td>\n",
       "      <td>Pen</td>\n",
       "      <td>10.0</td>\n",
       "      <td>3</td>\n",
       "      <td>30.0</td>\n",
       "    </tr>\n",
       "    <tr>\n",
       "      <th>3</th>\n",
       "      <td>104</td>\n",
       "      <td>Pencil</td>\n",
       "      <td>15.0</td>\n",
       "      <td>4</td>\n",
       "      <td>60.0</td>\n",
       "    </tr>\n",
       "    <tr>\n",
       "      <th>4</th>\n",
       "      <td>105</td>\n",
       "      <td>laptop</td>\n",
       "      <td>100.0</td>\n",
       "      <td>5</td>\n",
       "      <td>500.0</td>\n",
       "    </tr>\n",
       "    <tr>\n",
       "      <th>5</th>\n",
       "      <td>106</td>\n",
       "      <td>mobile</td>\n",
       "      <td>NaN</td>\n",
       "      <td>6</td>\n",
       "      <td>NaN</td>\n",
       "    </tr>\n",
       "    <tr>\n",
       "      <th>6</th>\n",
       "      <td>107</td>\n",
       "      <td>laptop</td>\n",
       "      <td>NaN</td>\n",
       "      <td>7</td>\n",
       "      <td>NaN</td>\n",
       "    </tr>\n",
       "    <tr>\n",
       "      <th>7</th>\n",
       "      <td>108</td>\n",
       "      <td>mobile</td>\n",
       "      <td>150.0</td>\n",
       "      <td>8</td>\n",
       "      <td>1200.0</td>\n",
       "    </tr>\n",
       "    <tr>\n",
       "      <th>8</th>\n",
       "      <td>109</td>\n",
       "      <td>Pen</td>\n",
       "      <td>10.0</td>\n",
       "      <td>9</td>\n",
       "      <td>90.0</td>\n",
       "    </tr>\n",
       "    <tr>\n",
       "      <th>9</th>\n",
       "      <td>110</td>\n",
       "      <td>Pencil</td>\n",
       "      <td>15.0</td>\n",
       "      <td>10</td>\n",
       "      <td>150.0</td>\n",
       "    </tr>\n",
       "  </tbody>\n",
       "</table>\n",
       "</div>"
      ],
      "text/plain": [
       "   Sales_id Product_name  Product_price  qty  total_amount\n",
       "0       101          Pen           10.0    1          10.0\n",
       "1       102       Pencil           15.0    2          30.0\n",
       "2       103          Pen           10.0    3          30.0\n",
       "3       104       Pencil           15.0    4          60.0\n",
       "4       105       laptop          100.0    5         500.0\n",
       "5       106       mobile            NaN    6           NaN\n",
       "6       107       laptop            NaN    7           NaN\n",
       "7       108       mobile          150.0    8        1200.0\n",
       "8       109          Pen           10.0    9          90.0\n",
       "9       110       Pencil           15.0   10         150.0"
      ]
     },
     "execution_count": 5,
     "metadata": {},
     "output_type": "execute_result"
    }
   ],
   "source": [
    "sales"
   ]
  },
  {
   "cell_type": "code",
   "execution_count": 6,
   "id": "7a6e4d0c-78e1-4c1d-b7f4-d05c9be5895e",
   "metadata": {},
   "outputs": [],
   "source": [
    "hello = sales.groupby(\"Product_name\") [\"total_amount\"].sum()"
   ]
  },
  {
   "cell_type": "code",
   "execution_count": 7,
   "id": "8e15fef6-64fd-4ec2-87e1-e2753363724c",
   "metadata": {},
   "outputs": [
    {
     "data": {
      "text/plain": [
       "Product_name\n",
       "Pen        130.0\n",
       "Pencil     240.0\n",
       "laptop     500.0\n",
       "mobile    1200.0\n",
       "Name: total_amount, dtype: float64"
      ]
     },
     "execution_count": 7,
     "metadata": {},
     "output_type": "execute_result"
    }
   ],
   "source": [
    "hello"
   ]
  },
  {
   "cell_type": "code",
   "execution_count": 8,
   "id": "3ce9a099-0b66-4c03-b2bc-2991dae90e74",
   "metadata": {},
   "outputs": [
    {
     "data": {
      "text/plain": [
       "Sales_id         0\n",
       "Product_name     0\n",
       "Product_price    2\n",
       "qty              0\n",
       "total_amount     2\n",
       "dtype: int64"
      ]
     },
     "execution_count": 8,
     "metadata": {},
     "output_type": "execute_result"
    }
   ],
   "source": [
    "sales.isnull().sum()"
   ]
  },
  {
   "cell_type": "code",
   "execution_count": 9,
   "id": "5083179b-f893-4967-832a-4b995638a251",
   "metadata": {},
   "outputs": [],
   "source": [
    "sales[\"Product_price\"]=sales[\"Product_price\"].fillna(sales[\"Product_price\"].mean())"
   ]
  },
  {
   "cell_type": "code",
   "execution_count": 53,
   "id": "5b3a1bb8-f710-425d-bae2-ad84ca7e67a9",
   "metadata": {},
   "outputs": [],
   "source": [
    "sales[\"qty\"]=sales[\"qty\"].fillna(5)"
   ]
  },
  {
   "cell_type": "code",
   "execution_count": 10,
   "id": "b77e28d7-7bfa-4f56-8905-a7c5c8aedb37",
   "metadata": {},
   "outputs": [],
   "source": [
    "sales[\"Product_price\"]=sales[\"Product_price\"].fillna(5)"
   ]
  },
  {
   "cell_type": "code",
   "execution_count": 11,
   "id": "ae524723-bed9-4708-9db1-692f02baf4e1",
   "metadata": {},
   "outputs": [
    {
     "data": {
      "text/plain": [
       "Sales_id         0\n",
       "Product_name     0\n",
       "Product_price    0\n",
       "qty              0\n",
       "total_amount     2\n",
       "dtype: int64"
      ]
     },
     "execution_count": 11,
     "metadata": {},
     "output_type": "execute_result"
    }
   ],
   "source": [
    "sales.isnull().sum()"
   ]
  },
  {
   "cell_type": "code",
   "execution_count": 13,
   "id": "7c6aeb2d-e8c1-4281-b886-47c37ee38855",
   "metadata": {},
   "outputs": [
    {
     "data": {
      "text/html": [
       "<div>\n",
       "<style scoped>\n",
       "    .dataframe tbody tr th:only-of-type {\n",
       "        vertical-align: middle;\n",
       "    }\n",
       "\n",
       "    .dataframe tbody tr th {\n",
       "        vertical-align: top;\n",
       "    }\n",
       "\n",
       "    .dataframe thead th {\n",
       "        text-align: right;\n",
       "    }\n",
       "</style>\n",
       "<table border=\"1\" class=\"dataframe\">\n",
       "  <thead>\n",
       "    <tr style=\"text-align: right;\">\n",
       "      <th></th>\n",
       "      <th>Sales_id</th>\n",
       "      <th>Product_name</th>\n",
       "      <th>Product_price</th>\n",
       "      <th>qty</th>\n",
       "      <th>total_amount</th>\n",
       "    </tr>\n",
       "  </thead>\n",
       "  <tbody>\n",
       "    <tr>\n",
       "      <th>0</th>\n",
       "      <td>101</td>\n",
       "      <td>Pen</td>\n",
       "      <td>10.000</td>\n",
       "      <td>1</td>\n",
       "      <td>10.0</td>\n",
       "    </tr>\n",
       "    <tr>\n",
       "      <th>1</th>\n",
       "      <td>102</td>\n",
       "      <td>Pencil</td>\n",
       "      <td>15.000</td>\n",
       "      <td>2</td>\n",
       "      <td>30.0</td>\n",
       "    </tr>\n",
       "    <tr>\n",
       "      <th>2</th>\n",
       "      <td>103</td>\n",
       "      <td>Pen</td>\n",
       "      <td>10.000</td>\n",
       "      <td>3</td>\n",
       "      <td>30.0</td>\n",
       "    </tr>\n",
       "    <tr>\n",
       "      <th>3</th>\n",
       "      <td>104</td>\n",
       "      <td>Pencil</td>\n",
       "      <td>15.000</td>\n",
       "      <td>4</td>\n",
       "      <td>60.0</td>\n",
       "    </tr>\n",
       "    <tr>\n",
       "      <th>4</th>\n",
       "      <td>105</td>\n",
       "      <td>laptop</td>\n",
       "      <td>100.000</td>\n",
       "      <td>5</td>\n",
       "      <td>500.0</td>\n",
       "    </tr>\n",
       "    <tr>\n",
       "      <th>5</th>\n",
       "      <td>106</td>\n",
       "      <td>mobile</td>\n",
       "      <td>40.625</td>\n",
       "      <td>6</td>\n",
       "      <td>NaN</td>\n",
       "    </tr>\n",
       "    <tr>\n",
       "      <th>6</th>\n",
       "      <td>107</td>\n",
       "      <td>laptop</td>\n",
       "      <td>40.625</td>\n",
       "      <td>7</td>\n",
       "      <td>NaN</td>\n",
       "    </tr>\n",
       "    <tr>\n",
       "      <th>7</th>\n",
       "      <td>108</td>\n",
       "      <td>mobile</td>\n",
       "      <td>150.000</td>\n",
       "      <td>8</td>\n",
       "      <td>1200.0</td>\n",
       "    </tr>\n",
       "    <tr>\n",
       "      <th>8</th>\n",
       "      <td>109</td>\n",
       "      <td>Pen</td>\n",
       "      <td>10.000</td>\n",
       "      <td>9</td>\n",
       "      <td>90.0</td>\n",
       "    </tr>\n",
       "    <tr>\n",
       "      <th>9</th>\n",
       "      <td>110</td>\n",
       "      <td>Pencil</td>\n",
       "      <td>15.000</td>\n",
       "      <td>10</td>\n",
       "      <td>150.0</td>\n",
       "    </tr>\n",
       "  </tbody>\n",
       "</table>\n",
       "</div>"
      ],
      "text/plain": [
       "   Sales_id Product_name  Product_price  qty  total_amount\n",
       "0       101          Pen         10.000    1          10.0\n",
       "1       102       Pencil         15.000    2          30.0\n",
       "2       103          Pen         10.000    3          30.0\n",
       "3       104       Pencil         15.000    4          60.0\n",
       "4       105       laptop        100.000    5         500.0\n",
       "5       106       mobile         40.625    6           NaN\n",
       "6       107       laptop         40.625    7           NaN\n",
       "7       108       mobile        150.000    8        1200.0\n",
       "8       109          Pen         10.000    9          90.0\n",
       "9       110       Pencil         15.000   10         150.0"
      ]
     },
     "execution_count": 13,
     "metadata": {},
     "output_type": "execute_result"
    }
   ],
   "source": [
    "sales"
   ]
  },
  {
   "cell_type": "code",
   "execution_count": 14,
   "id": "bb591cd4-4e1d-4c76-943a-36399aa93a9c",
   "metadata": {},
   "outputs": [],
   "source": [
    "#  sales[\"qty\"]=sales[\"Product_name\"].fillna(method=\"ffill\")"
   ]
  },
  {
   "cell_type": "code",
   "execution_count": 15,
   "id": "713b9586-01b8-4536-ab97-63eb22a0ed18",
   "metadata": {},
   "outputs": [
    {
     "name": "stdout",
     "output_type": "stream",
     "text": [
      "Sales_id           int64\n",
      "Product_name      object\n",
      "Product_price    float64\n",
      "qty                int64\n",
      "total_amount     float64\n",
      "dtype: object\n"
     ]
    }
   ],
   "source": [
    "print(sales.dtypes)"
   ]
  },
  {
   "cell_type": "code",
   "execution_count": 16,
   "id": "da914171-a672-475d-82af-0cdd1bb98286",
   "metadata": {},
   "outputs": [],
   "source": [
    "sales[\"Sales_id\"] = sales[\"Sales_id\"].astype(\"object\")"
   ]
  },
  {
   "cell_type": "code",
   "execution_count": 17,
   "id": "e27df2c8-a0bd-4e31-b4c8-7b571ed27a9f",
   "metadata": {},
   "outputs": [
    {
     "name": "stdout",
     "output_type": "stream",
     "text": [
      "Sales_id          object\n",
      "Product_name      object\n",
      "Product_price    float64\n",
      "qty                int64\n",
      "total_amount     float64\n",
      "dtype: object\n"
     ]
    }
   ],
   "source": [
    "print (sales.dtypes)"
   ]
  },
  {
   "cell_type": "code",
   "execution_count": 18,
   "id": "eb94fa5b-c754-4fc7-89c6-1d898f809e3a",
   "metadata": {},
   "outputs": [
    {
     "name": "stdout",
     "output_type": "stream",
     "text": [
      "Sales_id          object\n",
      "Product_name      object\n",
      "Product_price    float64\n",
      "qty                int64\n",
      "total_amount     float64\n",
      "dtype: object\n"
     ]
    }
   ],
   "source": [
    "print(sales.dtypes)"
   ]
  },
  {
   "cell_type": "code",
   "execution_count": 19,
   "id": "9ec51f86-011d-48dd-a30f-503359559b77",
   "metadata": {},
   "outputs": [],
   "source": [
    "a = sales.groupby(\"Product_name\")[\"total_amount\"].sum()"
   ]
  },
  {
   "cell_type": "code",
   "execution_count": 20,
   "id": "29f49600-b75e-4e4e-8622-659e0e09d0f4",
   "metadata": {},
   "outputs": [],
   "source": [
    "sales[\"Sales_id\"] = sales[\"Sales_id\"].astype(\"object\")"
   ]
  },
  {
   "cell_type": "code",
   "execution_count": 21,
   "id": "88c033f6-4581-4220-8b2c-b212932337e8",
   "metadata": {},
   "outputs": [],
   "source": [
    "a = pd.DataFrame(a.reset_index())"
   ]
  },
  {
   "cell_type": "code",
   "execution_count": 22,
   "id": "f744044a-a30f-4f26-b786-8d2b98b37c81",
   "metadata": {},
   "outputs": [],
   "source": [
    "b = sales.groupby(\"Product_name\").agg({\"total_amount\":[\"sum\",\"mean\",\"max\",\"min\",\"count\",\"std\",\"var\",\"median\"]})"
   ]
  },
  {
   "cell_type": "code",
   "execution_count": 23,
   "id": "149e8b8a-f9e8-4676-bcd1-4158d79bb986",
   "metadata": {},
   "outputs": [],
   "source": [
    "b = pd.DataFrame(b.reset_index())"
   ]
  },
  {
   "cell_type": "code",
   "execution_count": 24,
   "id": "c0c83361-7f71-4b7f-bc75-7582885e213e",
   "metadata": {},
   "outputs": [],
   "source": [
    "b.columns = [\"Product_name\",\"total_amount_sum\",\"mean\",\"max\",\"min\",\"count\",\"std\",\"var\",\"median\"]"
   ]
  },
  {
   "cell_type": "code",
   "execution_count": 25,
   "id": "9eb3caa9-f95d-4fd6-8b56-45c1981bd9a9",
   "metadata": {},
   "outputs": [
    {
     "data": {
      "text/html": [
       "<div>\n",
       "<style scoped>\n",
       "    .dataframe tbody tr th:only-of-type {\n",
       "        vertical-align: middle;\n",
       "    }\n",
       "\n",
       "    .dataframe tbody tr th {\n",
       "        vertical-align: top;\n",
       "    }\n",
       "\n",
       "    .dataframe thead th {\n",
       "        text-align: right;\n",
       "    }\n",
       "</style>\n",
       "<table border=\"1\" class=\"dataframe\">\n",
       "  <thead>\n",
       "    <tr style=\"text-align: right;\">\n",
       "      <th></th>\n",
       "      <th>Product_name</th>\n",
       "      <th>total_amount_sum</th>\n",
       "      <th>mean</th>\n",
       "      <th>max</th>\n",
       "      <th>min</th>\n",
       "      <th>count</th>\n",
       "      <th>std</th>\n",
       "      <th>var</th>\n",
       "      <th>median</th>\n",
       "    </tr>\n",
       "  </thead>\n",
       "  <tbody>\n",
       "    <tr>\n",
       "      <th>0</th>\n",
       "      <td>Pen</td>\n",
       "      <td>130.0</td>\n",
       "      <td>43.333333</td>\n",
       "      <td>90.0</td>\n",
       "      <td>10.0</td>\n",
       "      <td>3</td>\n",
       "      <td>41.63332</td>\n",
       "      <td>1733.333333</td>\n",
       "      <td>30.0</td>\n",
       "    </tr>\n",
       "    <tr>\n",
       "      <th>1</th>\n",
       "      <td>Pencil</td>\n",
       "      <td>240.0</td>\n",
       "      <td>80.000000</td>\n",
       "      <td>150.0</td>\n",
       "      <td>30.0</td>\n",
       "      <td>3</td>\n",
       "      <td>62.44998</td>\n",
       "      <td>3900.000000</td>\n",
       "      <td>60.0</td>\n",
       "    </tr>\n",
       "    <tr>\n",
       "      <th>2</th>\n",
       "      <td>laptop</td>\n",
       "      <td>500.0</td>\n",
       "      <td>500.000000</td>\n",
       "      <td>500.0</td>\n",
       "      <td>500.0</td>\n",
       "      <td>1</td>\n",
       "      <td>NaN</td>\n",
       "      <td>NaN</td>\n",
       "      <td>500.0</td>\n",
       "    </tr>\n",
       "    <tr>\n",
       "      <th>3</th>\n",
       "      <td>mobile</td>\n",
       "      <td>1200.0</td>\n",
       "      <td>1200.000000</td>\n",
       "      <td>1200.0</td>\n",
       "      <td>1200.0</td>\n",
       "      <td>1</td>\n",
       "      <td>NaN</td>\n",
       "      <td>NaN</td>\n",
       "      <td>1200.0</td>\n",
       "    </tr>\n",
       "  </tbody>\n",
       "</table>\n",
       "</div>"
      ],
      "text/plain": [
       "  Product_name  total_amount_sum         mean     max     min  count  \\\n",
       "0          Pen             130.0    43.333333    90.0    10.0      3   \n",
       "1       Pencil             240.0    80.000000   150.0    30.0      3   \n",
       "2       laptop             500.0   500.000000   500.0   500.0      1   \n",
       "3       mobile            1200.0  1200.000000  1200.0  1200.0      1   \n",
       "\n",
       "        std          var  median  \n",
       "0  41.63332  1733.333333    30.0  \n",
       "1  62.44998  3900.000000    60.0  \n",
       "2       NaN          NaN   500.0  \n",
       "3       NaN          NaN  1200.0  "
      ]
     },
     "execution_count": 25,
     "metadata": {},
     "output_type": "execute_result"
    }
   ],
   "source": [
    "b"
   ]
  },
  {
   "cell_type": "code",
   "execution_count": 27,
   "id": "5a6ed503-706c-46c0-995d-0986f89976db",
   "metadata": {},
   "outputs": [
    {
     "name": "stdout",
     "output_type": "stream",
     "text": [
      "------- Sales_id          object\n",
      "Product_name      object\n",
      "Product_price    float64\n",
      "qty                int64\n",
      "total_amount     float64\n",
      "dtype: object\n"
     ]
    }
   ],
   "source": [
    "print(\"-------\",sales.dtypes)"
   ]
  },
  {
   "cell_type": "code",
   "execution_count": 31,
   "id": "5f79e7b9-466d-40bb-b5a0-bd82934dabc0",
   "metadata": {},
   "outputs": [],
   "source": [
    "# pivot table\n",
    "a = sales.pivot_table(index=\"Product_name\", values=\"total_amount\", aggfunc=[\"sum\",\"mean\",\"max\",\"min\",\"count\"]).reset_index()"
   ]
  },
  {
   "cell_type": "code",
   "execution_count": 32,
   "id": "f267f809-dc6a-4a67-ab36-6dfe268250e9",
   "metadata": {},
   "outputs": [
    {
     "data": {
      "text/html": [
       "<div>\n",
       "<style scoped>\n",
       "    .dataframe tbody tr th:only-of-type {\n",
       "        vertical-align: middle;\n",
       "    }\n",
       "\n",
       "    .dataframe tbody tr th {\n",
       "        vertical-align: top;\n",
       "    }\n",
       "\n",
       "    .dataframe thead tr th {\n",
       "        text-align: left;\n",
       "    }\n",
       "</style>\n",
       "<table border=\"1\" class=\"dataframe\">\n",
       "  <thead>\n",
       "    <tr>\n",
       "      <th></th>\n",
       "      <th>Product_name</th>\n",
       "      <th>sum</th>\n",
       "      <th>mean</th>\n",
       "      <th>max</th>\n",
       "      <th>min</th>\n",
       "      <th>count</th>\n",
       "    </tr>\n",
       "    <tr>\n",
       "      <th></th>\n",
       "      <th></th>\n",
       "      <th>total_amount</th>\n",
       "      <th>total_amount</th>\n",
       "      <th>total_amount</th>\n",
       "      <th>total_amount</th>\n",
       "      <th>total_amount</th>\n",
       "    </tr>\n",
       "  </thead>\n",
       "  <tbody>\n",
       "    <tr>\n",
       "      <th>0</th>\n",
       "      <td>Pen</td>\n",
       "      <td>130.0</td>\n",
       "      <td>43.333333</td>\n",
       "      <td>90.0</td>\n",
       "      <td>10.0</td>\n",
       "      <td>3</td>\n",
       "    </tr>\n",
       "    <tr>\n",
       "      <th>1</th>\n",
       "      <td>Pencil</td>\n",
       "      <td>240.0</td>\n",
       "      <td>80.000000</td>\n",
       "      <td>150.0</td>\n",
       "      <td>30.0</td>\n",
       "      <td>3</td>\n",
       "    </tr>\n",
       "    <tr>\n",
       "      <th>2</th>\n",
       "      <td>laptop</td>\n",
       "      <td>500.0</td>\n",
       "      <td>500.000000</td>\n",
       "      <td>500.0</td>\n",
       "      <td>500.0</td>\n",
       "      <td>1</td>\n",
       "    </tr>\n",
       "    <tr>\n",
       "      <th>3</th>\n",
       "      <td>mobile</td>\n",
       "      <td>1200.0</td>\n",
       "      <td>1200.000000</td>\n",
       "      <td>1200.0</td>\n",
       "      <td>1200.0</td>\n",
       "      <td>1</td>\n",
       "    </tr>\n",
       "  </tbody>\n",
       "</table>\n",
       "</div>"
      ],
      "text/plain": [
       "  Product_name          sum         mean          max          min  \\\n",
       "               total_amount total_amount total_amount total_amount   \n",
       "0          Pen        130.0    43.333333         90.0         10.0   \n",
       "1       Pencil        240.0    80.000000        150.0         30.0   \n",
       "2       laptop        500.0   500.000000        500.0        500.0   \n",
       "3       mobile       1200.0  1200.000000       1200.0       1200.0   \n",
       "\n",
       "         count  \n",
       "  total_amount  \n",
       "0            3  \n",
       "1            3  \n",
       "2            1  \n",
       "3            1  "
      ]
     },
     "execution_count": 32,
     "metadata": {},
     "output_type": "execute_result"
    }
   ],
   "source": [
    "a"
   ]
  }
 ],
 "metadata": {
  "kernelspec": {
   "display_name": "Python 3 (ipykernel)",
   "language": "python",
   "name": "python3"
  },
  "language_info": {
   "codemirror_mode": {
    "name": "ipython",
    "version": 3
   },
   "file_extension": ".py",
   "mimetype": "text/x-python",
   "name": "python",
   "nbconvert_exporter": "python",
   "pygments_lexer": "ipython3",
   "version": "3.12.7"
  }
 },
 "nbformat": 4,
 "nbformat_minor": 5
}
