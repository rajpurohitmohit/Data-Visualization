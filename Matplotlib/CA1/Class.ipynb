{
 "cells": [
  {
   "cell_type": "code",
   "execution_count": 9,
   "id": "d9a05dee-8a7c-40c8-8496-f21d9a9c8f5a",
   "metadata": {},
   "outputs": [
    {
     "data": {
      "text/plain": [
       "{1: 1, 2: 4, 3: 9, 4: 16, 5: 25}"
      ]
     },
     "execution_count": 9,
     "metadata": {},
     "output_type": "execute_result"
    }
   ],
   "source": [
    "d = {1: 1, 2: 4, 3:9,4:16,5:25}\n",
    "d"
   ]
  },
  {
   "cell_type": "code",
   "execution_count": 13,
   "id": "720d1b50-a3cd-42b8-b13e-0873537b3893",
   "metadata": {},
   "outputs": [
    {
     "name": "stdin",
     "output_type": "stream",
     "text": [
      "Enter the number -45\n"
     ]
    },
    {
     "name": "stdout",
     "output_type": "stream",
     "text": [
      "The number is negative\n"
     ]
    }
   ],
   "source": [
    "a= int(input(\"Enter the number\"))\n",
    "if(a>0):\n",
    "    print(\"The number is positive\")\n",
    "elif(a==0):\n",
    "    print(\"The number is zero\")\n",
    "else:\n",
    "    print(\"The number is negative\")"
   ]
  },
  {
   "cell_type": "code",
   "execution_count": 14,
   "id": "ceaa048a-7c41-488e-a4a9-659cdfaf393d",
   "metadata": {},
   "outputs": [
    {
     "name": "stdin",
     "output_type": "stream",
     "text": [
      "Enter the number 45\n"
     ]
    },
    {
     "name": "stdout",
     "output_type": "stream",
     "text": [
      "The number is odd\n"
     ]
    }
   ],
   "source": [
    "a=int(input(\"Enter the number\"))\n",
    "if(a%2==0):\n",
    "    print(\"The number is even\")\n",
    "elif(a==0):\n",
    "    print(\"The number is zero\")\n",
    "else:\n",
    "    print(\"The number is odd\")"
   ]
  },
  {
   "cell_type": "code",
   "execution_count": 18,
   "id": "e8bd57ca-f84c-4901-804f-2c3bedecd78b",
   "metadata": {},
   "outputs": [
    {
     "name": "stdin",
     "output_type": "stream",
     "text": [
      "Enter the marks of the student 45\n"
     ]
    }
   ],
   "source": [
    "a=int(input(\"Enter the marks of the student\"))\n",
    "\n",
    "if (a>=90):\n",
    "    print(\"A\")\n",
    "elif (a>=80):\n",
    "    print(\"B\")\n",
    "elif (a>=70):\n",
    "    print(\"C\")\n",
    "else:\n",
    "    print(\"F\")"
   ]
  },
  {
   "cell_type": "code",
   "execution_count": 9,
   "id": "2ba6b6f9-decc-458f-b840-6cfa92d9d60a",
   "metadata": {},
   "outputs": [
    {
     "name": "stdin",
     "output_type": "stream",
     "text": [
      "Enter the rental expense:  4500\n",
      "Enter the food expense:  4785\n",
      "Enter the other expenses:  4555\n"
     ]
    },
    {
     "name": "stdout",
     "output_type": "stream",
     "text": [
      "Congrats! You got a 10% discount. Total after discount:  12456.0\n"
     ]
    }
   ],
   "source": [
    "a = int(input(\"Enter the rental expense: \"))\n",
    "b = int(input(\"Enter the food expense: \"))\n",
    "c = int(input(\"Enter the other expenses: \"))\n",
    "\n",
    "expenses = a + b + c\n",
    "\n",
    "if (expenses > 1000):\n",
    "    discount = expenses * 0.10\n",
    "    expenses = expenses - discount\n",
    "    print(\"Congrats! You got a 10% discount. Total after discount: \", expenses)\n",
    "else:\n",
    "    print(\"expenses: \", expenses)"
   ]
  },
  {
   "cell_type": "code",
   "execution_count": 8,
   "id": "7a7fc576-33f5-4af8-ab4f-bac8c1563ad1",
   "metadata": {},
   "outputs": [
    {
     "name": "stdin",
     "output_type": "stream",
     "text": [
      "Enter the first value:  78\n",
      "Enter the second value:  100\n"
     ]
    },
    {
     "name": "stdout",
     "output_type": "stream",
     "text": [
      "The second one is the bigger one that is:  100\n"
     ]
    }
   ],
   "source": [
    "a = int(input(\"Enter the first value: \"))\n",
    "b = int(input(\"Enter the second value: \"))\n",
    "\n",
    "if (a>b):\n",
    "    print(\"The first one is bigger one that is: \", a)\n",
    "else:\n",
    "    print(\"The second one is the bigger one that is: \", b)"
   ]
  },
  {
   "cell_type": "code",
   "execution_count": null,
   "id": "1bd547e4-f742-438b-969d-13735b0c8d2c",
   "metadata": {},
   "outputs": [],
   "source": []
  }
 ],
 "metadata": {
  "kernelspec": {
   "display_name": "Python 3 (ipykernel)",
   "language": "python",
   "name": "python3"
  },
  "language_info": {
   "codemirror_mode": {
    "name": "ipython",
    "version": 3
   },
   "file_extension": ".py",
   "mimetype": "text/x-python",
   "name": "python",
   "nbconvert_exporter": "python",
   "pygments_lexer": "ipython3",
   "version": "3.12.7"
  }
 },
 "nbformat": 4,
 "nbformat_minor": 5
}
