{
 "cells": [
  {
   "cell_type": "code",
   "execution_count": 1,
   "metadata": {},
   "outputs": [
    {
     "data": {
      "text/plain": [
       "(60922, 54)"
      ]
     },
     "execution_count": 1,
     "metadata": {},
     "output_type": "execute_result"
    }
   ],
   "source": [
    "import pandas as pd\n",
    "import numpy as np\n",
    "import matplotlib.pyplot as plt\n",
    "import seaborn as sns\n",
    "pd.set_option(\"display.max_columns\",None)\n",
    "\n",
    "data = pd.read_csv('data_dictionary.csv')\n",
    "encounter = pd.read_csv('encounters.csv')\n",
    "organizations = pd.read_csv('organizations.csv')\n",
    "patients = pd.read_csv('patients.csv')\n",
    "payers = pd.read_csv('payers.csv')\n",
    "procedures = pd.read_csv('procedures.csv')\n",
    "\n",
    "# First rename the columns according to their names\n",
    "encounter.rename(columns={\"PATIENT\":\"patient_id\"},inplace=True)\n",
    "patients.rename(columns={\"Id\":\"patient_id\"},inplace=True)\n",
    "\n",
    "# Now merge those two datasets with that column\n",
    "enc_pat = pd.merge(encounter,patients, on=\"patient_id\",how=\"left\")\n",
    "\n",
    "payers.rename(columns={\"Id\":\"payer_id\"},inplace=True)\n",
    "enc_pat.rename(columns={\"PAYER\":\"payer_id\"},inplace=True)\n",
    "\n",
    "enc_pat_pay = pd.merge(enc_pat,payers, on=\"payer_id\", how=\"left\")\n",
    "\n",
    "organizations.rename(columns={\"Id\":\"organization_id\"},inplace=True)\n",
    "enc_pat_pay.rename(columns={\"ORGANIZATION\":\"organization_id\"},inplace=True)\n",
    "\n",
    "enc_pat_pay_org = pd.merge(enc_pat_pay,organizations,on=\"organization_id\", how=\"left\")\n",
    "\n",
    "\n",
    "procedures.rename(columns={\"ENCOUNTER\":\"encounter_id\"}, inplace=True)\n",
    "enc_pat_pay_org.rename(columns={\"Id\":\"encounter_id\"}, inplace=True)\n",
    "\n",
    "enc_pat_pay_org_pro = pd.merge(enc_pat_pay_org, procedures, on=\"encounter_id\", how=\"left\")\n",
    "enc_pat_pay_org_pro.shape"
   ]
  }
 ],
 "metadata": {
  "kernelspec": {
   "display_name": "Python 3",
   "language": "python",
   "name": "python3"
  },
  "language_info": {
   "codemirror_mode": {
    "name": "ipython",
    "version": 3
   },
   "file_extension": ".py",
   "mimetype": "text/x-python",
   "name": "python",
   "nbconvert_exporter": "python",
   "pygments_lexer": "ipython3",
   "version": "3.11.9"
  }
 },
 "nbformat": 4,
 "nbformat_minor": 2
}
