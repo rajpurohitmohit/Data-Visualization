{
 "cells": [
  {
   "cell_type": "code",
   "execution_count": null,
   "id": "665f965c-0012-4009-a0ec-9e208cd9786a",
   "metadata": {},
   "outputs": [],
   "source": [
    "import pandas as pd\n",
    "import numpy as np\n",
    "import seaborn as sns\n",
    "import matplotlib.pyplot as plt"
   ]
  },
  {
   "cell_type": "code",
   "execution_count": null,
   "id": "27e659bf-f364-4b27-84a1-7e823c26b791",
   "metadata": {},
   "outputs": [],
   "source": [
    "encounters = pd.read_csv(\"encounters.csv\")\n",
    "organizations = pd.read_csv(\"organizations.csv\")\n",
    "patients = pd.read_csv(\"patients.csv\")\n",
    "payers = pd.read_csv(\"payers.csv\")\n",
    "procedures = pd.read_csv(\"procedures.csv\")"
   ]
  },
  {
   "cell_type": "code",
   "execution_count": null,
   "id": "2aac8b35-b8a2-437e-ba19-15f184118985",
   "metadata": {},
   "outputs": [],
   "source": [
    "encounters.dtypes"
   ]
  },
  {
   "cell_type": "code",
   "execution_count": null,
   "id": "d7c8f7ba-5d37-4c16-86ff-25293921be98",
   "metadata": {},
   "outputs": [],
   "source": [
    "patients"
   ]
  },
  {
   "cell_type": "code",
   "execution_count": null,
   "id": "b4c38e82-9e81-4acc-a706-38c4d5cf4b3d",
   "metadata": {},
   "outputs": [],
   "source": [
    "patients.dtypes"
   ]
  },
  {
   "cell_type": "code",
   "execution_count": null,
   "id": "effb8d7c-776f-423b-90c8-3711226c4e2a",
   "metadata": {},
   "outputs": [],
   "source": [
    "patients.head(2)"
   ]
  },
  {
   "cell_type": "code",
   "execution_count": null,
   "id": "d0949f50-636f-484d-bc1e-6c688bff836c",
   "metadata": {},
   "outputs": [],
   "source": [
    "encounters.head(2)"
   ]
  },
  {
   "cell_type": "code",
   "execution_count": null,
   "id": "6032fcd9-d081-4f04-b23e-45d340ee5df6",
   "metadata": {},
   "outputs": [],
   "source": [
    "encounters.rename(columns={\"PATIENT\":\"patient_id\"}, inplace=True)"
   ]
  },
  {
   "cell_type": "code",
   "execution_count": null,
   "id": "c75aa6ec-f6f3-4c9b-8942-427101bb3e8b",
   "metadata": {},
   "outputs": [],
   "source": [
    "encounters.head(2)"
   ]
  },
  {
   "cell_type": "code",
   "execution_count": null,
   "id": "8d75f73c-4134-401d-a998-4f5f4bf56e23",
   "metadata": {},
   "outputs": [],
   "source": [
    "patients.rename(columns={\"Id\":\"patient_id\"}, inplace=True)"
   ]
  },
  {
   "cell_type": "code",
   "execution_count": null,
   "id": "5826bb3f-550e-4bdd-bf20-2622a28fb7f8",
   "metadata": {},
   "outputs": [],
   "source": [
    "patients.head(2)"
   ]
  },
  {
   "cell_type": "code",
   "execution_count": null,
   "id": "1371ee97-001b-4c74-859e-1d8a1a52eff9",
   "metadata": {},
   "outputs": [],
   "source": [
    "merged_dataset = pd.merge(encounters, patients, on=\"patient_id\", how=\"left\")\n",
    "merged_dataset"
   ]
  },
  {
   "cell_type": "code",
   "execution_count": null,
   "id": "00da431b-208d-43d4-8045-ee0d95137d6a",
   "metadata": {},
   "outputs": [],
   "source": [
    "payers"
   ]
  },
  {
   "cell_type": "code",
   "execution_count": null,
   "id": "2e9c9e47-c93d-400f-8e8d-54ea71a20d28",
   "metadata": {},
   "outputs": [],
   "source": [
    "merged_dataset.rename(columns={\"PAYER\":\"payers_id\"},inplace=True)"
   ]
  },
  {
   "cell_type": "code",
   "execution_count": null,
   "id": "029a906d-4c18-4700-888b-42bfafddb53e",
   "metadata": {},
   "outputs": [],
   "source": [
    "payers.rename(columns={\"Id\":\"payers_id\"},inplace=True)"
   ]
  },
  {
   "cell_type": "code",
   "execution_count": null,
   "id": "18c0f3c7-d040-4264-ab84-0053e257bf32",
   "metadata": {},
   "outputs": [],
   "source": [
    "payers"
   ]
  },
  {
   "cell_type": "code",
   "execution_count": null,
   "id": "02c9f133-6d95-460e-913c-d5e24bf1428d",
   "metadata": {},
   "outputs": [],
   "source": [
    "merged_dataset = pd.merge(merged_dataset, payers, on=\"payers_id\", how=\"inner\")"
   ]
  },
  {
   "cell_type": "code",
   "execution_count": null,
   "id": "c839b63b-f3c5-44d2-822d-396f92b239fe",
   "metadata": {},
   "outputs": [],
   "source": [
    "merged_dataset.columns\n"
   ]
  },
  {
   "cell_type": "code",
   "execution_count": null,
   "id": "72639250-a78e-411c-a230-d75b0f94aad8",
   "metadata": {},
   "outputs": [],
   "source": [
    "procedures"
   ]
  },
  {
   "cell_type": "code",
   "execution_count": null,
   "id": "4fbe9fc9-8882-4def-afc7-0850af5b4f9c",
   "metadata": {},
   "outputs": [],
   "source": [
    "encounters.rename(columns={\"Id\":\"encounter_id\"},inplace=True)"
   ]
  },
  {
   "cell_type": "code",
   "execution_count": null,
   "id": "c0e3577d-eb82-4915-8784-a3ad4861c4ce",
   "metadata": {},
   "outputs": [],
   "source": [
    "procedures.rename(columns={\"ENCOUNTER\":\"encounter_id\"},inplace=True)"
   ]
  },
  {
   "cell_type": "code",
   "execution_count": null,
   "id": "4b6042e0-0621-421b-9055-b6b9a5e1773e",
   "metadata": {},
   "outputs": [],
   "source": [
    "merged_dataset.rename(columns={\"Id\":\"encounter_id\"},inplace=True)"
   ]
  },
  {
   "cell_type": "code",
   "execution_count": null,
   "id": "ca6e0729-0dc9-4c12-a616-de0a63ad1bf7",
   "metadata": {},
   "outputs": [],
   "source": [
    "merged_dataset.columns"
   ]
  },
  {
   "cell_type": "code",
   "execution_count": null,
   "id": "91877939-01d2-4aec-ae96-e0218cda7706",
   "metadata": {},
   "outputs": [],
   "source": [
    "merged_dataset1 = pd.merge(merged_dataset, procedures,on=\"encounter_id\", how=\"left\")\n",
    "merged_dataset1"
   ]
  },
  {
   "cell_type": "code",
   "execution_count": null,
   "id": "d72459e0-6b73-4625-ba8e-08bb3fca5410",
   "metadata": {},
   "outputs": [],
   "source": [
    "procedures.columns"
   ]
  },
  {
   "cell_type": "code",
   "execution_count": null,
   "id": "02bc30c8-8e08-416b-94c1-05646da0c54b",
   "metadata": {},
   "outputs": [],
   "source": [
    "merged_dataset1"
   ]
  },
  {
   "cell_type": "code",
   "execution_count": null,
   "id": "55b3ec7b-84e0-43b7-982b-47af36b5ed6a",
   "metadata": {},
   "outputs": [],
   "source": [
    "merged_dataset1.columns"
   ]
  },
  {
   "cell_type": "code",
   "execution_count": null,
   "id": "ef83e875-068e-406c-a985-0e4100ed437a",
   "metadata": {},
   "outputs": [],
   "source": [
    "merged_dataset1.isnull().sum()"
   ]
  },
  {
   "cell_type": "code",
   "execution_count": null,
   "id": "628c5cef-9ade-41d2-8fe5-e6c2660d1965",
   "metadata": {},
   "outputs": [],
   "source": [
    "merged_dataset1.dtypes"
   ]
  },
  {
   "cell_type": "code",
   "execution_count": null,
   "id": "bbcf84ae-2c28-4237-b398-0191904cd798",
   "metadata": {},
   "outputs": [],
   "source": [
    "merged_dataset1[\"BIRTHDATE\"] = pd.to_datetime(merged_dataset1[\"BIRTHDATE\"], errors=\"coerce\")"
   ]
  },
  {
   "cell_type": "code",
   "execution_count": null,
   "id": "8f05d90c-9f9b-439d-a52e-aff6ef27214f",
   "metadata": {},
   "outputs": [],
   "source": [
    "merged_dataset1"
   ]
  },
  {
   "cell_type": "code",
   "execution_count": null,
   "id": "cf550522-ed02-48e1-9060-941e0c01e85a",
   "metadata": {},
   "outputs": [],
   "source": [
    "merged_dataset1.dtypes"
   ]
  },
  {
   "cell_type": "code",
   "execution_count": null,
   "id": "5641233f-30e2-4a61-ad1d-915bf0201b5d",
   "metadata": {},
   "outputs": [],
   "source": [
    "merged_dataset1.columns"
   ]
  },
  {
   "cell_type": "code",
   "execution_count": null,
   "id": "986a884e",
   "metadata": {},
   "outputs": [],
   "source": [
    "merged_dataset1.shape"
   ]
  },
  {
   "cell_type": "markdown",
   "id": "3cf21816-b657-4be0-a88b-7075566b7b5b",
   "metadata": {},
   "source": [
    "# Healthcare Utilization by Age Group"
   ]
  },
  {
   "cell_type": "code",
   "execution_count": null,
   "id": "ac490736-6ee0-4e78-86fc-394e449fa355",
   "metadata": {},
   "outputs": [],
   "source": [
    "from datetime import datetime\n",
    "current_date = datetime.now().date()\n",
    "ages = []\n",
    "for birthdate in merged_dataset1[\"BIRTHDATE\"]:\n",
    "    age = current_date.year - birthdate.year\n",
    "    if(current_date.month, current_date.day) < (birthdate.month, birthdate.day):\n",
    "        age-=1\n",
    "    ages.append(age)\n",
    "merged_dataset1[\"AGE\"] = ages\n",
    "merged_dataset1[[\"BIRTHDATE\",\"AGE\"]].head()"
   ]
  },
  {
   "cell_type": "code",
   "execution_count": null,
   "id": "ca207f64-48e8-4e8c-aff1-9d3eb4a6d7cb",
   "metadata": {},
   "outputs": [],
   "source": [
    "def age_calculate(age):\n",
    "    if age <= 18:\n",
    "        return \"0-18\"\n",
    "    elif age <= 35:\n",
    "        return \"19-35\"\n",
    "    elif age <= 50:\n",
    "        return \"36-50\"\n",
    "    elif age <= 65:\n",
    "        return \"51-65\"\n",
    "    else:\n",
    "        return \"66+\"\n",
    "merged_dataset1[\"AGE_GROUP\"] = [age_calculate(age) for age in merged_dataset1[\"AGE\"]]"
   ]
  },
  {
   "cell_type": "code",
   "execution_count": null,
   "id": "58be5d68-8d7c-43ab-a1e2-03baa02f26d7",
   "metadata": {},
   "outputs": [],
   "source": [
    "age_group_counts = merged_dataset1.groupby(\"AGE_GROUP\")[\"encounter_id\"].nunique()\n",
    "print(age_group_counts)"
   ]
  },
  {
   "cell_type": "code",
   "execution_count": null,
   "id": "928c0328-2ed7-4746-8bdf-026678305539",
   "metadata": {},
   "outputs": [],
   "source": [
    "plt.figure(figsize=(12, 6))\n",
    "bars = plt.bar(age_group_counts.index, age_group_counts.values, color=\"skyblue\") \n",
    "plt.bar_label(bars)\n",
    "plt.title(\"Healthcare Utilization by Age Group\", fontsize=16)\n",
    "plt.xlabel(\"Age Group\", fontsize=14)\n",
    "plt.ylabel(\"Number of Unique Encounters\", fontsize=14)\n",
    "plt.xticks(rotation=0)\n",
    "plt.grid(True, linestyle=\"--\", alpha=0.6)\n",
    "plt.tight_layout()\n",
    "plt.show()"
   ]
  },
  {
   "cell_type": "markdown",
   "id": "76f84e1a-8824-4ce5-8310-fc904f03f311",
   "metadata": {},
   "source": [
    "# Average Cost of Encounters by Type"
   ]
  },
  {
   "cell_type": "code",
   "execution_count": null,
   "id": "f34e2e49-26b5-44f3-b0d9-9aa0cbd520dc",
   "metadata": {},
   "outputs": [],
   "source": [
    "merged_dataset1.columns"
   ]
  },
  {
   "cell_type": "code",
   "execution_count": null,
   "id": "725ca284-6687-4d20-94c0-a4341315b9e1",
   "metadata": {},
   "outputs": [],
   "source": [
    "average_cost = merged_dataset1[\"TOTAL_CLAIM_COST\"].mean()\n",
    "average_cost"
   ]
  },
  {
   "cell_type": "code",
   "execution_count": null,
   "id": "0eef7037-01e3-4435-9fee-a1471351feb6",
   "metadata": {},
   "outputs": [],
   "source": [
    "average_cost_by_encounters = merged_dataset1.groupby(\"ENCOUNTERCLASS\")[\"TOTAL_CLAIM_COST\"].mean()\n",
    "plt.figure(figsize=(10,5))\n",
    "bars = plt.bar(average_cost_by_encounters.index, average_cost_by_encounters.values, color=\"lightgreen\")\n",
    "plt.bar_label(bars)\n",
    "plt.title(\"Average Cost By Encounter Type\")\n",
    "plt.xlabel(\"Encounter Type\")\n",
    "plt.ylabel(\"Average Cost\")\n",
    "plt.grid(True, linestyle=\"--\", alpha=0.6)\n",
    "plt.tight_layout()\n",
    "plt.plot()"
   ]
  }
 ],
 "metadata": {
  "kernelspec": {
   "display_name": "Python 3",
   "language": "python",
   "name": "python3"
  },
  "language_info": {
   "codemirror_mode": {
    "name": "ipython",
    "version": 3
   },
   "file_extension": ".py",
   "mimetype": "text/x-python",
   "name": "python",
   "nbconvert_exporter": "python",
   "pygments_lexer": "ipython3",
   "version": "3.11.9"
  }
 },
 "nbformat": 4,
 "nbformat_minor": 5
}
